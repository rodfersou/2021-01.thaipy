{
 "cells": [
  {
   "cell_type": "code",
   "execution_count": null,
   "metadata": {
    "slideshow": {
     "slide_type": "skip"
    }
   },
   "outputs": [],
   "source": [
    "%load_ext ipython_pytest"
   ]
  },
  {
   "cell_type": "markdown",
   "metadata": {
    "slideshow": {
     "slide_type": "slide"
    }
   },
   "source": [
    "# Intro to Pytest + AssertPy + Factory Boy\n",
    "\n",
    "Rodrigo Ferreira de Souza"
   ]
  },
  {
   "cell_type": "markdown",
   "metadata": {
    "slideshow": {
     "slide_type": "slide"
    }
   },
   "source": [
    "## About me\n",
    "\n",
    "* Curious by nature\n",
    "* 17 years of experience with multiple:\n",
    "  * Programming Languages\n",
    "  * Databases\n",
    "  * Frameworks\n",
    "  * APIs\n",
    "  * Business domains\n",
    "* Education:\n",
    "  * 2001 - Data Processing - Associate's degree\n",
    "  * 2006 - Computer Engineer - Bachelor's degree\n",
    "  * 2009 - Software Engineer and Data Base - Postgraduate degree\n",
    "  * 2013 - Web Development - Postgraduate degree"
   ]
  },
  {
   "cell_type": "markdown",
   "metadata": {
    "slideshow": {
     "slide_type": "slide"
    }
   },
   "source": [
    "## Unittest"
   ]
  },
  {
   "cell_type": "markdown",
   "metadata": {
    "slideshow": {
     "slide_type": "-"
    }
   },
   "source": [
    "> The unittest unit testing framework was originally inspired by JUnit and has a similar flavor as major unit testing frameworks in other languages. It supports test automation, sharing of setup and shutdown code for tests, aggregation of tests into collections, and independence of the tests from the reporting framework.\n",
    "\n",
    "`Unittest` is the standard way to write tests, shipped with Python itself, inspired by `JUnit`"
   ]
  },
  {
   "cell_type": "markdown",
   "metadata": {
    "slideshow": {
     "slide_type": "subslide"
    }
   },
   "source": [
    "Unittest"
   ]
  },
  {
   "cell_type": "code",
   "execution_count": null,
   "metadata": {
    "scrolled": true,
    "slideshow": {
     "slide_type": "-"
    }
   },
   "outputs": [],
   "source": [
    "%%pytest\n",
    "import unittest\n",
    "\n",
    "class UnittestTests(unittest.TestCase):\n",
    "    @classmethod\n",
    "    def setUpClass(cls):\n",
    "        cls.my_fixture = {1: 2}\n",
    "\n",
    "    def test_1_in_fixture(self):\n",
    "        self.assertIn(1, self.my_fixture)\n",
    "\n",
    "    def test_a_not_in_fixture(self):\n",
    "        self.assertNotIn('a', self.my_fixture)"
   ]
  },
  {
   "cell_type": "markdown",
   "metadata": {
    "slideshow": {
     "slide_type": "slide"
    }
   },
   "source": [
    "## Pytest"
   ]
  },
  {
   "cell_type": "markdown",
   "metadata": {
    "slideshow": {
     "slide_type": "-"
    }
   },
   "source": [
    "> The pytest framework makes it easy to write small tests, yet scales to support complex functional testing for applications and libraries.\n",
    "\n",
    "`Pytest` is an attempt to make test more simple, what we call Pythonic"
   ]
  },
  {
   "cell_type": "markdown",
   "metadata": {
    "slideshow": {
     "slide_type": "subslide"
    }
   },
   "source": [
    "Pytest"
   ]
  },
  {
   "cell_type": "code",
   "execution_count": null,
   "metadata": {
    "slideshow": {
     "slide_type": "-"
    }
   },
   "outputs": [],
   "source": [
    "%%pytest\n",
    "import pytest\n",
    "\n",
    "@pytest.fixture\n",
    "def manager(request):\n",
    "    return {1: 2}\n",
    "\n",
    "def test_1_in_manager(manager):\n",
    "    assert 1 in manager\n",
    "\n",
    "def test_a_not_in_manager(manager):\n",
    "    assert 'a' not in manager"
   ]
  },
  {
   "cell_type": "markdown",
   "metadata": {
    "slideshow": {
     "slide_type": "slide"
    }
   },
   "source": [
    "## AssertPy"
   ]
  },
  {
   "cell_type": "markdown",
   "metadata": {
    "slideshow": {
     "slide_type": "-"
    }
   },
   "source": [
    "> Simple assertions library for unit testing in Python with a nice fluent API.\n",
    "\n",
    "`AssertPy` do another step forward to make tests more legible:\n",
    "* You write like good English\n",
    "* Easy for everyone in the team to understand what the test do, Frontend, Backend, Manager, Client"
   ]
  },
  {
   "cell_type": "markdown",
   "metadata": {
    "slideshow": {
     "slide_type": "subslide"
    }
   },
   "source": [
    "AssertPy"
   ]
  },
  {
   "cell_type": "code",
   "execution_count": null,
   "metadata": {
    "slideshow": {
     "slide_type": "-"
    }
   },
   "outputs": [],
   "source": [
    "%%pytest\n",
    "from assertpy import assert_that\n",
    "import pytest\n",
    " \n",
    "@pytest.fixture\n",
    "def manager(request):\n",
    "    return {1: 2}\n",
    "\n",
    "def test_1_in_manager(manager):\n",
    "    assert_that(manager).contains(1)\n",
    "\n",
    "def test_a_not_in_manager(manager):\n",
    "    assert_that(manager).does_not_contain('a')"
   ]
  },
  {
   "cell_type": "markdown",
   "metadata": {
    "slideshow": {
     "slide_type": "slide"
    }
   },
   "source": [
    "## Factory Boy"
   ]
  },
  {
   "cell_type": "markdown",
   "metadata": {
    "slideshow": {
     "slide_type": "-"
    }
   },
   "source": [
    "> factory_boy is a fixtures replacement based on `thoughtbot’s factory_bot`.\n",
    "\n",
    "`Factory Boy` focus on give you the hability to create better fixtures\n",
    "* Deal with random data (let the CI find wrong combinations for you)\n",
    "* You can tie the fixture with your `SQL Alchemy` model or `MongoEngine` model"
   ]
  },
  {
   "cell_type": "markdown",
   "metadata": {
    "slideshow": {
     "slide_type": "slide"
    }
   },
   "source": [
    "## Something to test - Rock Paper Scissors Game\n",
    "\n",
    "https://github.com/rodfersou/jakenpo"
   ]
  },
  {
   "cell_type": "markdown",
   "metadata": {
    "slideshow": {
     "slide_type": "subslide"
    }
   },
   "source": [
    "Something to test - Rock Paper Scissors Game"
   ]
  },
  {
   "cell_type": "code",
   "execution_count": null,
   "metadata": {
    "slideshow": {
     "slide_type": "-"
    }
   },
   "outputs": [],
   "source": [
    "from enum import Enum, unique\n",
    "\n",
    "@unique\n",
    "class Winner(Enum):\n",
    "    PLAYER1 = \"PLAYER1\"\n",
    "    PLAYER2 = \"PLAYER2\"\n",
    "    DEUCE   = \"DEUCE\"\n",
    "\n",
    "@unique\n",
    "class Choice(Enum):\n",
    "    ROCK    = \"ROCK\"\n",
    "    PAPER   = \"PAPER\"\n",
    "    SCISSOR = \"SCISSOR\""
   ]
  },
  {
   "cell_type": "markdown",
   "metadata": {
    "slideshow": {
     "slide_type": "subslide"
    }
   },
   "source": [
    "Something to test - Rock Paper Scissors Game"
   ]
  },
  {
   "cell_type": "code",
   "execution_count": null,
   "metadata": {
    "slideshow": {
     "slide_type": "-"
    }
   },
   "outputs": [],
   "source": [
    "GAME_MAPPING = {\n",
    "    Choice.ROCK: {\n",
    "        Choice.SCISSOR: Winner.PLAYER1,\n",
    "        Choice.ROCK: Winner.DEUCE,\n",
    "        Choice.PAPER: Winner.PLAYER2,\n",
    "    },\n",
    "    Choice.PAPER: {\n",
    "        Choice.ROCK: Winner.PLAYER1,\n",
    "        Choice.PAPER: Winner.DEUCE,\n",
    "        Choice.SCISSOR: Winner.PLAYER2,\n",
    "    },\n",
    "    Choice.SCISSOR: {\n",
    "        Choice.PAPER: Winner.PLAYER1,\n",
    "        Choice.SCISSOR: Winner.DEUCE,\n",
    "        Choice.ROCK: Winner.PLAYER2,\n",
    "    },\n",
    "}"
   ]
  },
  {
   "cell_type": "markdown",
   "metadata": {
    "slideshow": {
     "slide_type": "subslide"
    }
   },
   "source": [
    "Something to test - Rock Paper Scissors Game"
   ]
  },
  {
   "cell_type": "code",
   "execution_count": null,
   "metadata": {
    "slideshow": {
     "slide_type": "-"
    }
   },
   "outputs": [],
   "source": [
    "from collections import defaultdict\n",
    "from dataclasses import dataclass, field\n",
    "from typing import DefaultDict\n",
    "\n",
    "@dataclass\n",
    "class Match:\n",
    "    rounds: int = 0\n",
    "    matches: DefaultDict[Winner, int] = field(default_factory=lambda: defaultdict(int))\n",
    "\n",
    "    def round(self, choice_player1: Choice, choice_player2: Choice) -> str:\n",
    "        winner = GAME_MAPPING[choice_player1][choice_player2]\n",
    "\n",
    "        self.rounds += 1\n",
    "        self.matches[winner] += 1\n",
    "\n",
    "        return winner.value\n",
    "\n",
    "    @property\n",
    "    def winner(self) -> str:\n",
    "        if self.matches[Winner.PLAYER1] == self.matches[Winner.PLAYER2]:\n",
    "            return Winner.DEUCE\n",
    "        inverted_matches = [(v, k) for k, v in self.matches.items()]\n",
    "        return max(inverted_matches)[1].value"
   ]
  },
  {
   "cell_type": "markdown",
   "metadata": {
    "slideshow": {
     "slide_type": "subslide"
    }
   },
   "source": [
    "Something to test - Rock Paper Scissors Game"
   ]
  },
  {
   "cell_type": "code",
   "execution_count": null,
   "metadata": {
    "slideshow": {
     "slide_type": "-"
    }
   },
   "outputs": [],
   "source": [
    "from jakenpo import Choice, Match\n",
    "\n",
    "match = Match()\n",
    "\n",
    "print(\"Round 1   =>   (ROCK,    PAPER  )   =>  \", match.round(Choice.ROCK, Choice.PAPER))\n",
    "print(\"Round 2   =>   (SCISSOR, PAPER  )   =>  \", match.round(Choice.SCISSOR, Choice.PAPER))\n",
    "print(\"Round 3   =>   (ROCK,    SCISSOR)   =>  \", match.round(Choice.ROCK, Choice.SCISSOR))\n",
    "print()\n",
    "print(f\"Winner in {match.rounds} rounds: {match.winner}\")"
   ]
  },
  {
   "cell_type": "markdown",
   "metadata": {
    "slideshow": {
     "slide_type": "slide"
    }
   },
   "source": [
    "## One more nice feature of Pytest - Parameters"
   ]
  },
  {
   "cell_type": "code",
   "execution_count": null,
   "metadata": {
    "slideshow": {
     "slide_type": "-"
    }
   },
   "outputs": [],
   "source": [
    "%%pytest\n",
    "from assertpy import assert_that\n",
    "from jakenpo import Choice, Match, Winner\n",
    "\n",
    "import pytest\n",
    "\n",
    "TESTDATA = [\n",
    "    (Choice.ROCK, Choice.ROCK,    Winner.DEUCE.value),   (Choice.PAPER, Choice.PAPER,   Winner.DEUCE.value),   (Choice.SCISSOR, Choice.SCISSOR, Winner.DEUCE.value),\n",
    "    (Choice.ROCK, Choice.PAPER,   Winner.PLAYER2.value), (Choice.PAPER, Choice.ROCK,    Winner.PLAYER1.value), (Choice.SCISSOR, Choice.ROCK,    Winner.PLAYER2.value),\n",
    "    (Choice.ROCK, Choice.SCISSOR, Winner.PLAYER1.value), (Choice.PAPER, Choice.SCISSOR, Winner.PLAYER2.value), (Choice.SCISSOR, Choice.PAPER,   Winner.PLAYER1.value),\n",
    "]\n",
    "\n",
    "\n",
    "@pytest.mark.parametrize(\"choice_player1,choice_player2,winner\", TESTDATA)\n",
    "def test_all_rounds(choice_player1, choice_player2, winner):\n",
    "    match = Match()\n",
    "    assert_that(\n",
    "        match.round(choice_player1, choice_player2)\n",
    "    ).is_equal_to(winner)"
   ]
  },
  {
   "cell_type": "markdown",
   "metadata": {
    "slideshow": {
     "slide_type": "slide"
    }
   },
   "source": [
    "## Factory Boy in action"
   ]
  },
  {
   "cell_type": "code",
   "execution_count": null,
   "metadata": {
    "slideshow": {
     "slide_type": "-"
    }
   },
   "outputs": [],
   "source": [
    "%%pytest\n",
    "from assertpy import assert_that\n",
    "from factory import DictFactory, Faker\n",
    "from jakenpo import Choice, Match, GAME_MAPPING\n",
    "\n",
    "\n",
    "class ChoicesFactory(DictFactory):\n",
    "    player1 = Faker(\"random_element\", elements=list(Choice))\n",
    "    player2 = Faker(\"random_element\", elements=list(Choice))\n",
    "\n",
    "\n",
    "def test_random_round():\n",
    "    match = Match()\n",
    "    \n",
    "    choices = ChoicesFactory.build()\n",
    "    winner = GAME_MAPPING[choices[\"player1\"]][choices[\"player2\"]].value\n",
    "    \n",
    "    # print(choices, winner)\n",
    "\n",
    "    assert_that(\n",
    "        match.round(*choices.values())\n",
    "    ).is_equal_to(winner)"
   ]
  },
  {
   "cell_type": "markdown",
   "metadata": {
    "slideshow": {
     "slide_type": "subslide"
    }
   },
   "source": [
    "Factory Boy in action"
   ]
  },
  {
   "cell_type": "code",
   "execution_count": null,
   "metadata": {
    "slideshow": {
     "slide_type": "-"
    }
   },
   "outputs": [],
   "source": [
    "%%pytest\n",
    "from assertpy import assert_that\n",
    "from collections import defaultdict\n",
    "from factory import DictFactory, Faker\n",
    "from jakenpo import Choice, Match, GAME_MAPPING\n",
    "\n",
    "class ChoicesFactory(DictFactory):\n",
    "    player1 = Faker(\"random_element\", elements=list(Choice))\n",
    "    player2 = Faker(\"random_element\", elements=list(Choice)\n",
    "\n",
    "def test_who_wins():\n",
    "    match = Match()\n",
    "    many_choices = ChoicesFactory.build_batch(5)\n",
    "    \n",
    "    players_wins = defaultdict(int)\n",
    "    for choices in many_choices:\n",
    "        winner = GAME_MAPPING[choices[\"player1\"]][choices[\"player2\"]].value\n",
    "        players_wins[winner] += 1\n",
    "        assert_that(match.round(*choices.values())).is_equal_to(winner)\n",
    "    \n",
    "    assert_that(match).has_rounds(5)\n",
    "    \n",
    "    inverted_players_wins = [(v, k) for k, v in players_wins.items()]\n",
    "    winner = max(inverted_players_wins)[1]\n",
    "    assert_that(match).has_winner(winner)"
   ]
  },
  {
   "cell_type": "markdown",
   "metadata": {
    "slideshow": {
     "slide_type": "slide"
    }
   },
   "source": [
    "## More examples of AssertPy\n",
    "https://github.com/assertpy/assertpy"
   ]
  },
  {
   "cell_type": "markdown",
   "metadata": {
    "slideshow": {
     "slide_type": "-"
    }
   },
   "source": [
    "### Strings"
   ]
  },
  {
   "cell_type": "code",
   "execution_count": null,
   "metadata": {
    "slideshow": {
     "slide_type": "-"
    }
   },
   "outputs": [],
   "source": [
    "assert_that('foo').is_length(3)\n",
    "assert_that('foo').is_not_empty()\n",
    "assert_that('foo').is_alpha()\n",
    "assert_that('123').is_digit()\n",
    "assert_that('foo').is_lower()\n",
    "assert_that('FOO').is_upper()\n",
    "assert_that('foo').is_equal_to('foo')\n",
    "assert_that('foo').is_not_equal_to('bar')\n",
    "\n",
    "assert_that('foo').contains('f')\n",
    "assert_that('foo').contains('f','oo')\n",
    "assert_that('foo').does_not_contain('x')\n",
    "assert_that('foo').contains_only('f','o')"
   ]
  },
  {
   "cell_type": "markdown",
   "metadata": {
    "slideshow": {
     "slide_type": "subslide"
    }
   },
   "source": [
    "More examples of AssertPy  \n",
    "Strings"
   ]
  },
  {
   "cell_type": "code",
   "execution_count": null,
   "metadata": {
    "slideshow": {
     "slide_type": "-"
    }
   },
   "outputs": [],
   "source": [
    "assert_that('foo').contains_duplicates()\n",
    "assert_that('fox').does_not_contain_duplicates()\n",
    "\n",
    "assert_that('foo').is_in('foo','bar','baz')\n",
    "assert_that('foo').is_not_in('boo','bar','baz')\n",
    "assert_that('foo').is_subset_of('abcdefghijklmnopqrstuvwxyz')\n",
    "\n",
    "assert_that('foo').starts_with('f')\n",
    "assert_that('foo').ends_with('oo')\n",
    "\n",
    "assert_that('foo').matches(r'\\w')\n",
    "assert_that('123-456-7890').matches(r'\\d{3}-\\d{3}-\\d{4}')\n",
    "assert_that('foo').does_not_match(r'\\d+')"
   ]
  },
  {
   "cell_type": "markdown",
   "metadata": {
    "slideshow": {
     "slide_type": "slide"
    }
   },
   "source": [
    "More examples of AssertPy  \n",
    "### Numbers"
   ]
  },
  {
   "cell_type": "code",
   "execution_count": null,
   "metadata": {
    "slideshow": {
     "slide_type": "-"
    }
   },
   "outputs": [],
   "source": [
    "assert_that(0).is_zero()\n",
    "assert_that(1).is_not_zero()\n",
    "assert_that(1).is_positive()\n",
    "assert_that(-1).is_negative()\n",
    "\n",
    "assert_that(123).is_equal_to(123)\n",
    "assert_that(123).is_not_equal_to(456)\n",
    "\n",
    "assert_that(123).is_greater_than(100)\n",
    "assert_that(123).is_greater_than_or_equal_to(123)\n",
    "assert_that(123).is_less_than(200)\n",
    "assert_that(123).is_less_than_or_equal_to(200)\n",
    "assert_that(123).is_between(100, 200)\n",
    "assert_that(123).is_close_to(100, 25)\n",
    "\n",
    "assert_that(1).is_in(0,1,2,3)\n",
    "assert_that(1).is_not_in(-1,-2,-3)"
   ]
  },
  {
   "cell_type": "markdown",
   "metadata": {
    "slideshow": {
     "slide_type": "slide"
    }
   },
   "source": [
    "More examples of AssertPy  \n",
    "### Lists"
   ]
  },
  {
   "cell_type": "code",
   "execution_count": null,
   "metadata": {
    "slideshow": {
     "slide_type": "-"
    }
   },
   "outputs": [],
   "source": [
    "assert_that(['a','b']).is_length(2)\n",
    "assert_that(['a','b']).is_not_empty()\n",
    "assert_that(['a','b']).is_equal_to(['a','b'])\n",
    "assert_that(['a','b']).is_not_equal_to(['b','a'])\n",
    "\n",
    "assert_that(['a','b']).contains('a')\n",
    "assert_that(['a','b']).contains('b','a')\n",
    "assert_that(['a','b']).does_not_contain('x','y')\n",
    "assert_that(['a','b']).contains_only('a','b')\n",
    "assert_that(['a','a']).contains_only('a')\n",
    "assert_that(['a','b','c']).contains_sequence('b','c')\n",
    "assert_that(['a','b']).is_subset_of(['a','b','c'])\n",
    "assert_that(['a','b','c']).is_sorted()\n",
    "assert_that(['c','b','a']).is_sorted(reverse=True)\n",
    "\n",
    "assert_that(['a','x','x']).contains_duplicates()\n",
    "assert_that(['a','b','c']).does_not_contain_duplicates()\n",
    "\n",
    "assert_that(['a','b','c']).starts_with('a')\n",
    "assert_that(['a','b','c']).ends_with('c')"
   ]
  },
  {
   "cell_type": "markdown",
   "metadata": {
    "slideshow": {
     "slide_type": "subslide"
    }
   },
   "source": [
    "More examples of AssertPy  \n",
    "#### Lists Flattening"
   ]
  },
  {
   "cell_type": "code",
   "execution_count": null,
   "metadata": {
    "slideshow": {
     "slide_type": "-"
    }
   },
   "outputs": [],
   "source": [
    "people = [['Fred', 'Smith'], ['Bob', 'Barr']]\n",
    "assert_that(people).extracting(0).is_equal_to(['Fred','Bob'])\n",
    "assert_that(people).extracting(-1).is_equal_to(['Smith','Barr'])"
   ]
  },
  {
   "cell_type": "markdown",
   "metadata": {
    "slideshow": {
     "slide_type": "slide"
    }
   },
   "source": [
    "More examples of AssertPy  \n",
    "### Dicts"
   ]
  },
  {
   "cell_type": "code",
   "execution_count": null,
   "metadata": {
    "slideshow": {
     "slide_type": "-"
    }
   },
   "outputs": [],
   "source": [
    "assert_that({'a':1,'b':2}).is_length(2)\n",
    "assert_that({'a':1,'b':2}).is_not_empty()\n",
    "assert_that({'a':1,'b':2}).is_equal_to({'a':1,'b':2})\n",
    "assert_that({'a':1,'b':2}).is_equal_to({'b':2,'a':1})\n",
    "assert_that({'a':1,'b':2}).is_not_equal_to({'a':1,'b':3})\n",
    "\n",
    "assert_that({'a':1,'b':2}).contains('a')\n",
    "assert_that({'a':1,'b':2}).contains('b','a')\n",
    "assert_that({'a':1,'b':2}).does_not_contain('x')\n",
    "assert_that({'a':1,'b':2}).does_not_contain('x','y')\n",
    "assert_that({'a':1,'b':2}).contains_only('a','b')\n",
    "assert_that({'a':1,'b':2}).is_subset_of({'a':1,'b':2,'c':3})"
   ]
  },
  {
   "cell_type": "markdown",
   "metadata": {
    "slideshow": {
     "slide_type": "subslide"
    }
   },
   "source": [
    "More examples of AssertPy  \n",
    "Dicts"
   ]
  },
  {
   "cell_type": "code",
   "execution_count": null,
   "metadata": {
    "slideshow": {
     "slide_type": "-"
    }
   },
   "outputs": [],
   "source": [
    "# contains_key() is just an alias for contains()\n",
    "assert_that({'a':1,'b':2}).contains_key('a')\n",
    "assert_that({'a':1,'b':2}).contains_key('b','a')\n",
    "\n",
    "# does_not_contain_key() is just an alias for does_not_contain()\n",
    "assert_that({'a':1,'b':2}).does_not_contain_key('x')\n",
    "assert_that({'a':1,'b':2}).does_not_contain_key('x','y')\n",
    "\n",
    "assert_that({'a':1,'b':2}).contains_value(1)\n",
    "assert_that({'a':1,'b':2}).contains_value(2,1)\n",
    "assert_that({'a':1,'b':2}).does_not_contain_value(3)\n",
    "assert_that({'a':1,'b':2}).does_not_contain_value(3,4)\n",
    "\n",
    "assert_that({'a':1,'b':2}).contains_entry({'a':1})\n",
    "assert_that({'a':1,'b':2}).contains_entry({'a':1},{'b':2})\n",
    "assert_that({'a':1,'b':2}).does_not_contain_entry({'a':2})\n",
    "assert_that({'a':1,'b':2}).does_not_contain_entry({'a':2},{'b':1})"
   ]
  },
  {
   "cell_type": "markdown",
   "metadata": {
    "slideshow": {
     "slide_type": "subslide"
    }
   },
   "source": [
    "More examples of AssertPy  \n",
    "#### Dicts Comparison - ignore"
   ]
  },
  {
   "cell_type": "code",
   "execution_count": null,
   "metadata": {
    "slideshow": {
     "slide_type": "-"
    }
   },
   "outputs": [],
   "source": [
    "# ignore a single key\n",
    "assert_that({'a':1,'b':2}).is_equal_to({'a':1}, ignore='b')\n",
    "\n",
    "# ignore multiple keys using a list\n",
    "assert_that({'a':1,'b':2,'c':3}).is_equal_to({'a':1}, ignore=['b','c'])\n",
    "\n",
    "# ignore nested keys using a tuple\n",
    "assert_that({'a':1,'b':{'c':2,'d':3}}).is_equal_to({'a':1,'b':{'c':2}}, ignore=('b','d'))"
   ]
  },
  {
   "cell_type": "markdown",
   "metadata": {
    "slideshow": {
     "slide_type": "subslide"
    }
   },
   "source": [
    "More examples of AssertPy  \n",
    "#### Dicts Comparison - include"
   ]
  },
  {
   "cell_type": "code",
   "execution_count": null,
   "metadata": {
    "slideshow": {
     "slide_type": "-"
    }
   },
   "outputs": [],
   "source": [
    "# include a single key\n",
    "assert_that({'a':1,'b':2}).is_equal_to({'a':1}, include='a')\n",
    "\n",
    "# include multiple keys using a list\n",
    "assert_that({'a':1,'b':2,'c':3}).is_equal_to({'a':1,'b':2}, include=['a','b'])\n",
    "\n",
    "# include nested keys using a tuple\n",
    "assert_that({'a':1,'b':{'c':2,'d':3}}).is_equal_to({'b':{'d':3}}, include=('b','d'))"
   ]
  },
  {
   "cell_type": "markdown",
   "metadata": {
    "slideshow": {
     "slide_type": "subslide"
    }
   },
   "source": [
    "More examples of AssertPy  \n",
    "#### Dicts Comparison - ignore and include"
   ]
  },
  {
   "cell_type": "code",
   "execution_count": null,
   "metadata": {
    "slideshow": {
     "slide_type": "-"
    }
   },
   "outputs": [],
   "source": [
    "assert_that({'a':1,'b':{'c':2,'d':3,'e':4,'f':5}}).is_equal_to(\n",
    "    {'b':{'d':3,'f':5}},\n",
    "    ignore=[('b','c'),('b','e')],\n",
    "    include='b'\n",
    ")"
   ]
  },
  {
   "cell_type": "markdown",
   "metadata": {
    "slideshow": {
     "slide_type": "subslide"
    }
   },
   "source": [
    "More examples of AssertPy  \n",
    "#### Dict Key Assertions"
   ]
  },
  {
   "cell_type": "code",
   "execution_count": null,
   "metadata": {
    "slideshow": {
     "slide_type": "-"
    }
   },
   "outputs": [],
   "source": [
    "fred = {'first_name': 'Fred', 'last_name': 'Smith', 'shoe_size': 12}\n",
    "\n",
    "assert_that(fred).has_first_name('Fred')\n",
    "assert_that(fred).has_last_name('Smith')\n",
    "assert_that(fred).has_shoe_size(12)"
   ]
  },
  {
   "cell_type": "markdown",
   "metadata": {
    "slideshow": {
     "slide_type": "slide"
    }
   },
   "source": [
    "More examples of AssertPy"
   ]
  },
  {
   "cell_type": "markdown",
   "metadata": {
    "slideshow": {
     "slide_type": "-"
    }
   },
   "source": [
    "### Objects"
   ]
  },
  {
   "cell_type": "markdown",
   "metadata": {
    "slideshow": {
     "slide_type": "-"
    }
   },
   "source": [
    "Given `fred` is an instance of the following `Person` class:"
   ]
  },
  {
   "cell_type": "code",
   "execution_count": null,
   "metadata": {
    "slideshow": {
     "slide_type": "-"
    }
   },
   "outputs": [],
   "source": [
    "class Person(object):\n",
    "    def __init__(self, first_name, last_name):\n",
    "        self.first_name = first_name\n",
    "        self.last_name = last_name\n",
    "\n",
    "    @property\n",
    "    def name(self):\n",
    "        return '%s %s' % (self.first_name, self.last_name)\n",
    "\n",
    "    def say_hello(self):\n",
    "        return 'Hello, %s!' % self.first_name"
   ]
  },
  {
   "cell_type": "markdown",
   "metadata": {
    "slideshow": {
     "slide_type": "subslide"
    }
   },
   "source": [
    "More examples of AssertPy  \n",
    "#### Matching an attribute, a property, and a method"
   ]
  },
  {
   "cell_type": "code",
   "execution_count": null,
   "metadata": {
    "slideshow": {
     "slide_type": "-"
    }
   },
   "outputs": [],
   "source": [
    "fred = Person('Fred','Smith')\n",
    "\n",
    "assert_that(fred.first_name).is_equal_to('Fred')\n",
    "assert_that(fred.name).is_equal_to('Fred Smith')\n",
    "assert_that(fred.say_hello()).is_equal_to('Hello, Fred!')"
   ]
  },
  {
   "cell_type": "markdown",
   "metadata": {
    "slideshow": {
     "slide_type": "-"
    }
   },
   "source": [
    "#### Dynamic Assertions on Objects"
   ]
  },
  {
   "cell_type": "code",
   "execution_count": null,
   "metadata": {
    "slideshow": {
     "slide_type": "-"
    }
   },
   "outputs": [],
   "source": [
    "assert_that(fred).has_first_name('Fred')\n",
    "assert_that(fred).has_name('Fred Smith')\n",
    "assert_that(fred).has_say_hello('Hello, Fred!')"
   ]
  },
  {
   "cell_type": "markdown",
   "metadata": {
    "slideshow": {
     "slide_type": "slide"
    }
   },
   "source": [
    "## More examples of Factory Boy - Faker\n",
    "\n",
    "https://faker.readthedocs.io/en/master/providers.html"
   ]
  },
  {
   "cell_type": "code",
   "execution_count": null,
   "metadata": {
    "slideshow": {
     "slide_type": "-"
    }
   },
   "outputs": [],
   "source": [
    "from faker import Faker\n",
    "\n",
    "faker = Faker()\n",
    "\n",
    "print(faker.name())\n",
    "print(faker.address())\n",
    "print(faker.paragraph())  # Lorem ipsum\n",
    "print(faker.company())"
   ]
  },
  {
   "cell_type": "markdown",
   "metadata": {
    "slideshow": {
     "slide_type": "slide"
    }
   },
   "source": [
    "# Questions?"
   ]
  },
  {
   "cell_type": "markdown",
   "metadata": {
    "slideshow": {
     "slide_type": "slide"
    }
   },
   "source": [
    "# Thank you!!!\n",
    "\n",
    "## Rodrigo Ferreira de Souza\n",
    "\n",
    "### Linkedin: https://www.linkedin.com/in/rodfersou/\n",
    "### Github: https://github.com/rodfersou"
   ]
  }
 ],
 "metadata": {
  "celltoolbar": "Slideshow",
  "kernelspec": {
   "display_name": "Python 3",
   "language": "python",
   "name": "python3"
  },
  "language_info": {
   "codemirror_mode": {
    "name": "ipython",
    "version": 3
   },
   "file_extension": ".py",
   "mimetype": "text/x-python",
   "name": "python",
   "nbconvert_exporter": "python",
   "pygments_lexer": "ipython3",
   "version": "3.8.5"
  }
 },
 "nbformat": 4,
 "nbformat_minor": 4
}
